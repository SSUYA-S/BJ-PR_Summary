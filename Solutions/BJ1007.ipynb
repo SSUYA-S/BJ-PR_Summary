{
 "cells": [
  {
   "cell_type": "markdown",
   "metadata": {},
   "source": [
    "https://www.acmicpc.net/problem/1007"
   ]
  },
  {
   "cell_type": "markdown",
   "metadata": {},
   "source": [
    "### input\n",
    "2\n",
    "4\n",
    "5 5\n",
    "5 -5\n",
    "-5 5\n",
    "-5 -5\n",
    "2\n",
    "-100000 -100000\n",
    "100000 100000\n",
    "\n",
    "### output\n",
    "0.000000000000\n",
    "282842.712474619038"
   ]
  },
  {
   "cell_type": "markdown",
   "metadata": {},
   "source": [
    "## 첫번째 시도\n",
    "### 접근 방법\n",
    "1. 주어진 점들을 두개씩 짝지어서 벡터를 생성.\n",
    "2. 이때 한 쌍에서는 두 방향의 벡터를 만들 수 있음.\n",
    "3. 첫 재귀함수에서는 중복 없이 두개씩 매칭\n",
    "4. 이렇게 만든 경우의 수에서 두 방향의 벡터로 만들어지는 모든 경우의 수 탐색\n",
    "\n",
    "역시나 시간 초과"
   ]
  },
  {
   "cell_type": "code",
   "execution_count": 2,
   "metadata": {},
   "outputs": [],
   "source": [
    "from OJUtils.input import testcase"
   ]
  },
  {
   "cell_type": "code",
   "execution_count": 9,
   "metadata": {},
   "outputs": [
    {
     "name": "stdout",
     "output_type": "stream",
     "text": [
      "0.0\n",
      "282842.71247461904\n",
      "\n",
      "걸린 시간: 0.000522sec\n"
     ]
    }
   ],
   "source": [
    "import math\n",
    "\n",
    "@testcase\n",
    "def main(*args, **kwargs):\n",
    "    input = kwargs['testcase'].readline\n",
    "\n",
    "    def sol():\n",
    "        N = int(input())\n",
    "        coordinates = [tuple(map(int, input().split())) for _ in range(N)]\n",
    "\n",
    "        def calculate_min_length(remains: list, vector_sum: tuple = (0, 0)) -> float:\n",
    "            \"\"\"\n",
    "            재귀함수\n",
    "            선택한 두점으로 만든 두 방향의 벡터들로 만들 수 있는\n",
    "            모든 벡터합 중 길이가 최소인 것을 탐색\n",
    "            \"\"\"\n",
    "\n",
    "            if not remains:\n",
    "                return math.sqrt(vector_sum[0]**2 + vector_sum[1]**2)\n",
    "\n",
    "            result = 987654321\n",
    "            sign = [1, -1]\n",
    "            nonlocal coordinates\n",
    "\n",
    "            remain = remains[:]\n",
    "            a, b = remain.pop(0)\n",
    "            xa, ya = coordinates[a]\n",
    "            xb, yb = coordinates[b]\n",
    "            for s in sign:\n",
    "                x = s * (xa-xb)\n",
    "                y = s * (ya-yb)\n",
    "                result = min(result, calculate_min_length(remain,(vector_sum[0] + x, vector_sum[1] + y)))\n",
    "                if math.isclose(result, 0, rel_tol = 1e-6):\n",
    "                    break\n",
    "\n",
    "            return result\n",
    "\n",
    "\n",
    "        def point_paring(remains: list, selected_points: list = []) -> float:\n",
    "            \"\"\"\n",
    "            재귀함수\n",
    "            벡터로 만들 두 점을 중복된 경우의 수 없이 선택\n",
    "            \"\"\"\n",
    "            \n",
    "            if len(remains) % 2 == 1:\n",
    "                return\n",
    "\n",
    "            if not remains:\n",
    "                return calculate_min_length(selected_points[:])\n",
    "\n",
    "            points = selected_points[:]\n",
    "            remain = remains[:]\n",
    "            a = remain[0]\n",
    "            result = 987654321\n",
    "\n",
    "            for b in remain[1:]:\n",
    "                points.append((a,b))\n",
    "                remain.remove(a)\n",
    "                remain.remove(b)\n",
    "                result = min(result, point_paring(remain, points))\n",
    "                points.pop()\n",
    "                remain = remains[:]\n",
    "\n",
    "            return result\n",
    "            \n",
    "        result = point_paring(list(range(N)))\n",
    "        return result\n",
    "\n",
    "    T = int(input())\n",
    "\n",
    "    for _ in range(T):\n",
    "        print(sol())\n",
    "\n",
    "main()"
   ]
  },
  {
   "cell_type": "markdown",
   "metadata": {},
   "source": [
    "## 두번째 시도\n",
    "### 접근 방법\n",
    "1. 위 방법을 하다 보니 결국 벡터의 합을 구하므로 전체 단위로 본다면 주어진 점의 절반은 더하고, 절반은 뺀 것이 벡터의 합\n",
    "2. itertools.combinations를 사용해 절반으로 분할한 뒤 반은 더하고 다른 반은 빼면 모든 경우의 벡터의 합의 길이를 구할 수 있음.\n",
    "3. 이때 절반은 중복이므로 생략가능 or combinations 말고 중복 없이 고르도록 직접 함수를 제작하는 방법도 있음.\n",
    "4. N이 20일때 모든 조합의 경우의 수는 184,756 가지\n",
    "5. 생각해보니 combinations는 iterator를 반환하니까 굳이 절반만 연산하는 애들 만들 필요가 없음\n",
    "6. 그냥 개수만 계산해서 도달하면 멈추면 됨.\n"
   ]
  },
  {
   "cell_type": "code",
   "execution_count": 35,
   "metadata": {},
   "outputs": [
    {
     "name": "stdout",
     "output_type": "stream",
     "text": [
      "0.0\n",
      "282842.71247461904\n",
      "\n",
      "걸린 시간: 0.001047sec\n"
     ]
    }
   ],
   "source": [
    "import math\n",
    "import itertools\n",
    "\n",
    "@testcase\n",
    "def main(*args, **kwargs):\n",
    "    input = kwargs['testcase'].readline\n",
    "\n",
    "    def sol() -> float:\n",
    "        N = int(input())\n",
    "        coordinates = [tuple(map(int, input().split())) for _ in range(N)]\n",
    "\n",
    "        limit = math.comb(N, N//2) // 2\n",
    "        case = itertools.combinations(range(N), N//2)\n",
    "\n",
    "        result = float('inf')\n",
    "        cnt = 1\n",
    "\n",
    "        def vector_length(selected_indices: list) -> float:\n",
    "            x = y = 0\n",
    "\n",
    "            for i in range(N):\n",
    "                if i in selected_indices:\n",
    "                    x += coordinates[i][0]\n",
    "                    y += coordinates[i][1]\n",
    "                else:\n",
    "                    x -= coordinates[i][0]\n",
    "                    y -= coordinates[i][1]\n",
    "\n",
    "            length = math.dist((0,0), (x,y))\n",
    "            return length\n",
    "\n",
    "        for i in case:\n",
    "            if cnt > limit:\n",
    "                break\n",
    "\n",
    "            result = min(result, vector_length(i))\n",
    "            cnt += 1\n",
    "\n",
    "        return result\n",
    "\n",
    "        T = int(input())\n",
    "\n",
    "        for _ in range(T):\n",
    "            print(sol())\n",
    "\n",
    "main()"
   ]
  },
  {
   "cell_type": "markdown",
   "metadata": {},
   "source": [
    "### 다른사람의 풀이\n",
    "## 접근 방법\n",
    "1. 위의 방법으로는 경우의 수를 찾고나서 또 계산하는데 다시 리스트를 순회하여 각각 합한뒤 계산을 한다.\n",
    "2. 벡터 합은 벡터AB + 벡터CD = (B-A) + (D-C) = A + B + C + D - 2(A+B) 로 표현 할 수 있다.\n",
    "3. 즉 경우의 수를 구하면서 선택한 점의 좌표만 계속 누적해서 넘겨주면 전체 합과 누적 합으로 길이를 계산할 수 있다."
   ]
  },
  {
   "cell_type": "code",
   "execution_count": 18,
   "metadata": {},
   "outputs": [
    {
     "name": "stdout",
     "output_type": "stream",
     "text": [
      "0.0\n",
      "282842.71247461904\n",
      "\n",
      "걸린 시간: 0.001034sec\n"
     ]
    }
   ],
   "source": [
    "import math\n",
    "\n",
    "@testcase\n",
    "def solve(*args, **kwargs) -> None:\n",
    "    input = kwargs['testcase'].readline\n",
    "\n",
    "    T = int(input())\n",
    "    inf = float('inf')\n",
    "    x = [0] * 20\n",
    "    y = [0] * 20\n",
    "    \n",
    "    def min_length(cnt: int, index: int, selected_x: int, selected_y: int) -> None:\n",
    "        nonlocal result\n",
    "\n",
    "        # base case\n",
    "        # 필요한 만큼 수를 선택했다면 길이 계산\n",
    "        if cnt == 0:\n",
    "            result = min(math.sqrt((x_total - 2*selected_x)**2 + (y_total - 2*selected_y)**2), result)\n",
    "            return\n",
    "\n",
    "        # 아직 선택할게 남았다면 점을 선택\n",
    "        # 중복을 제거하기 위해 사전순으로 선택\n",
    "        # 점을 선택할 수 있는 범위는 이전에 선택한 값의 다음 인덱스 부터\n",
    "        # 선택할 수 있는 점의 개수가 cnt 보다 크거나 같아야 하기 때문에 N - cnt 인덱스까지\n",
    "        for i in range(index, N - cnt + 1):\n",
    "            min_length(cnt - 1, index + 1, selected_x + x[i], selected_y + y[i])\n",
    "\n",
    "    \n",
    "    for _ in range(T):\n",
    "        N = int(input())\n",
    "        result = inf\n",
    "        x_total = 0\n",
    "        y_total = 0\n",
    "\n",
    "        for i in range(N):\n",
    "            x[i], y[i] = map(int, input().split())\n",
    "            x_total += x[i]\n",
    "            y_total += y[i]\n",
    "\n",
    "        # 시작이 0이 아닌 이유\n",
    "        # 모든 조합은 이 문제에서 절반이 중복이기 때문에\n",
    "        # 첫번째 원소를 먼저 넣어 주면 자연스레 첫번째 원소가 들어있지 않는 나머지 절반이 제거됨.\n",
    "        min_length(N//2 - 1, 1, x[0], y[0])\n",
    "        print(result)\n",
    "\n",
    "if __name__ == '__main__':\n",
    "    solve()\n",
    "\n",
    "        "
   ]
  },
  {
   "cell_type": "code",
   "execution_count": null,
   "metadata": {},
   "outputs": [],
   "source": []
  }
 ],
 "metadata": {
  "kernelspec": {
   "display_name": "Python 3.10.5 64-bit",
   "language": "python",
   "name": "python3"
  },
  "language_info": {
   "codemirror_mode": {
    "name": "ipython",
    "version": 3
   },
   "file_extension": ".py",
   "mimetype": "text/x-python",
   "name": "python",
   "nbconvert_exporter": "python",
   "pygments_lexer": "ipython3",
   "version": "3.10.5"
  },
  "orig_nbformat": 4,
  "vscode": {
   "interpreter": {
    "hash": "369f2c481f4da34e4445cda3fffd2e751bd1c4d706f27375911949ba6bb62e1c"
   }
  }
 },
 "nbformat": 4,
 "nbformat_minor": 2
}
