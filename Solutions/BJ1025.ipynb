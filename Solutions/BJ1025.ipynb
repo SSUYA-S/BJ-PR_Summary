{
 "cells": [
  {
   "cell_type": "markdown",
   "metadata": {},
   "source": [
    "https://www.acmicpc.net/problem/1025"
   ]
  },
  {
   "cell_type": "markdown",
   "metadata": {},
   "source": [
    "### input\n",
    "6 7\n",
    "3791178\n",
    "1283252\n",
    "4103617\n",
    "8233494\n",
    "8725572\n",
    "2937261\n",
    "\n",
    "### output\n",
    "320356"
   ]
  },
  {
   "cell_type": "markdown",
   "metadata": {},
   "source": [
    "## 첫번째 시도\n",
    "### 접근 방법\n",
    "1. 등차 수열의 공차의 범위는 어디까지 인가? 역순을 위한 음수, 같은 열, 행 선택을 위한 0도 모두 포함 되므로 [-(N-1), (N-1)] 의 범위를 가진다.\n",
    "2. 근데 시작을 중앙에서 부터 할 수 있는가? + 등차수열을 적용했을 때 남은 위치의 수를 선택하지 않아도 괜찮은가?\n",
    "3. 가능할 것 같다. 아무거나 하나 잡고 그냥 공차가 저것보다 크다고 생각하면 되는 문제 아닌가?\n",
    "4. 테이블에서 만들 수 있는 모든 수를 탐색 후 가능한지 확인\n",
    "5. 만들어진 수에서 또 탐색을 해야하니 중간에 한번 걸러냄\n",
    "6. 제곱수의 1의 자리수가 될 수 있는 값은 0, 1, 4, 5, 6, 9\n",
    "7. 만들 수 있는 최대 값은 999999999이므로 해당 범위 내의 제곱수는 0을 포함하여 31623개"
   ]
  },
  {
   "cell_type": "code",
   "execution_count": 1,
   "metadata": {},
   "outputs": [],
   "source": [
    "from OJUtils.input import testcase"
   ]
  },
  {
   "cell_type": "code",
   "execution_count": 8,
   "metadata": {},
   "outputs": [
    {
     "name": "stdout",
     "output_type": "stream",
     "text": [
      "2 3\n",
      "[[1, 2, 3], [4, 5, 6]]\n",
      "{1, 2, 3, 4, 5, 6}\n",
      "[961, 900, 841, 784, 729, 676, 625, 576, 529, 484, 441, 400, 361, 324, 289, 256, 225, 196, 169, 144, 121, 100, 81, 64, 49, 36, 25, 16, 9, 4, 1, 0]\n",
      "\n",
      "걸린 시간: 0.001000sec\n"
     ]
    }
   ],
   "source": [
    "import math\n",
    "\n",
    "@testcase\n",
    "def solve(*args, **kwargs) -> None:\n",
    "    input = kwargs['testcase'].readline\n",
    "\n",
    "    # 입력\n",
    "    N, M = map(int,input().split())\n",
    "    pool = set()\n",
    "    table = [0] * N\n",
    "    for i in range(N):\n",
    "        temp = list(map(int,list(input().strip())))\n",
    "        table[i] = temp[:]\n",
    "        for j in temp:\n",
    "            pool.add(j)\n",
    "\n",
    "    # 제곱수의 1의 자리가 될 수 있는 수.\n",
    "    possible_unit_digit = {0, 1, 4, 5, 6, 9}\n",
    "\n",
    "    # 입력받은 테이블 내에서 가능한 제곱수의 범위\n",
    "    max_number = math.ceil(math.sqrt(10 ** max(N,M))) - 1\n",
    "    square_numbers = []\n",
    "    for i in range(max_number,-1,-1):\n",
    "        square_numbers.append(i ** 2)\n",
    "\n",
    "    # 만들 수 있는 수\n",
    "    possible_number = {}\n",
    "\n",
    "    dx = [-1, -1, -1, 0, 0, 1, 1, 1]\n",
    "    dy = [-1, 0, 1, -1, 1, -1, 0, 1]\n",
    "    n = 1\n",
    "    x, y = 0, 0\n",
    "\n",
    "    for r in range(N):\n",
    "        for c in range(M):\n",
    "            num = table[r][c]\n",
    "            while True:\n",
    "                for i in range(7):\n",
    "\n",
    "\n",
    "    def square_num_search(square_number: int) -> bool:\n",
    "        \n",
    "\n",
    "\n",
    "\n",
    "\n",
    "        \n",
    "\n",
    "\n",
    "\n",
    "    \n",
    "    # 제곱수를 만들 수 없는 입력\n",
    "    if not pool.intersection(possible_unit_digit):\n",
    "        print(-1)\n",
    "        return\n",
    "\n",
    "    # 가능한 숫자를 확인하고 완전 탐색\n",
    "    for square_number in square_numbers:\n",
    "        candidate = {int(x) for x in str(square_number)}\n",
    "        result = False\n",
    "\n",
    "        if pool.intersection(candidate) == candidate:\n",
    "            result = square_num_search(square_number)\n",
    "        else:\n",
    "            continue\n",
    "\n",
    "        if result:\n",
    "            print(square_number)\n",
    "            break\n",
    "\n",
    "\n",
    "    print(N,M)\n",
    "    print(table)\n",
    "    print(pool)\n",
    "    print(square_numbers)\n",
    "    \n",
    "\n",
    "if __name__ == '__main__':\n",
    "    solve(())"
   ]
  },
  {
   "cell_type": "code",
   "execution_count": 6,
   "metadata": {},
   "outputs": [
    {
     "data": {
      "text/plain": [
       "False"
      ]
     },
     "execution_count": 6,
     "metadata": {},
     "output_type": "execute_result"
    }
   ],
   "source": [
    "a = {1,2,3}\n",
    "b = [1,2,3]\n",
    "\n",
    "a.intersection(b) == b"
   ]
  },
  {
   "cell_type": "code",
   "execution_count": 9,
   "metadata": {},
   "outputs": [],
   "source": [
    "test = [[1, 2, 3], [4, 5, 6]]"
   ]
  },
  {
   "cell_type": "code",
   "execution_count": 12,
   "metadata": {},
   "outputs": [
    {
     "data": {
      "text/plain": [
       "5"
      ]
     },
     "execution_count": 12,
     "metadata": {},
     "output_type": "execute_result"
    }
   ],
   "source": [
    "test[1][1]"
   ]
  }
 ],
 "metadata": {
  "kernelspec": {
   "display_name": "Python 3.10.5 ('venv': venv)",
   "language": "python",
   "name": "python3"
  },
  "language_info": {
   "codemirror_mode": {
    "name": "ipython",
    "version": 3
   },
   "file_extension": ".py",
   "mimetype": "text/x-python",
   "name": "python",
   "nbconvert_exporter": "python",
   "pygments_lexer": "ipython3",
   "version": "3.10.5"
  },
  "orig_nbformat": 4,
  "vscode": {
   "interpreter": {
    "hash": "8fdc3d26c835b7852e9221745f862abb74c0b017fccb2f03764b1b3e811065d7"
   }
  }
 },
 "nbformat": 4,
 "nbformat_minor": 2
}
